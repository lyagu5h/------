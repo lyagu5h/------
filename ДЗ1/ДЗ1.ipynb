{
 "cells": [
  {
   "cell_type": "markdown",
   "id": "e2bcb053-2b04-4533-9d96-2dd09fbb3ddc",
   "metadata": {},
   "source": [
    "## Задание 1"
   ]
  },
  {
   "cell_type": "markdown",
   "id": "028d5b90-bfba-407e-b5c2-b3cc1f72e4e5",
   "metadata": {},
   "source": [
    "Дана переменная, в которой хранится четырёхзначное число (год). Необходимо написать программу, которая выведет, является этот год високосным или обычным."
   ]
  },
  {
   "cell_type": "code",
   "execution_count": 1,
   "id": "652053e7-5971-4257-ab53-aa0dc7df7f7f",
   "metadata": {},
   "outputs": [
    {
     "data": {
      "text/plain": [
       "'Високосный'"
      ]
     },
     "execution_count": 1,
     "metadata": {},
     "output_type": "execute_result"
    }
   ],
   "source": [
    "def is_leap_year(year = int(input('Введите год:'))):\n",
    "    if (year % 4 == 0 and year % 100 != 0) or year % 400 == 0:\n",
    "        return('Високосный')\n",
    "    else:\n",
    "        return('Обычный год')\n",
    "\n",
    "is_leap_year()"
   ]
  },
  {
   "cell_type": "markdown",
   "id": "135c8167-cf8b-4372-87d8-54fb08f8f752",
   "metadata": {},
   "source": [
    "## Задание 2"
   ]
  },
  {
   "cell_type": "markdown",
   "id": "c702aa7f-77ae-4b97-bb3b-eb520e80ed27",
   "metadata": {},
   "source": [
    "Дана переменная, в которой хранится шестизначное число (номер проездного билета). Напишите программу, которая будет определять, является ли этот билет счастливым. Билет считается счастливым, если сумма первых трёх цифр совпадает с суммой последних трёх цифр номера.\n",
    "Примеры работы программы:"
   ]
  },
  {
   "cell_type": "code",
   "execution_count": 2,
   "id": "b0fff282-1889-4a29-84d1-a80ede0c739f",
   "metadata": {},
   "outputs": [
    {
     "data": {
      "text/plain": [
       "'Несчастливый билет'"
      ]
     },
     "execution_count": 2,
     "metadata": {},
     "output_type": "execute_result"
    }
   ],
   "source": [
    "def is_happy_ticket(number = input('Введите номер билета: ')):\n",
    "    str1 = number[0:3]\n",
    "    str2 = number[3:]\n",
    "    start_sum = sum(int(i) for i in str1)\n",
    "    end_sum = sum(int(i) for i in str2)\n",
    "    if (start_sum == end_sum):\n",
    "        return('Cчастливый билет')\n",
    "    else:\n",
    "        return('Несчастливый билет')\n",
    "        \n",
    "is_happy_ticket()"
   ]
  }
 ],
 "metadata": {
  "kernelspec": {
   "display_name": "Python 3 (ipykernel)",
   "language": "python",
   "name": "python3"
  },
  "language_info": {
   "codemirror_mode": {
    "name": "ipython",
    "version": 3
   },
   "file_extension": ".py",
   "mimetype": "text/x-python",
   "name": "python",
   "nbconvert_exporter": "python",
   "pygments_lexer": "ipython3",
   "version": "3.12.5"
  }
 },
 "nbformat": 4,
 "nbformat_minor": 5
}
